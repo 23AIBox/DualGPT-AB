{
 "cells": [
  {
   "cell_type": "code",
   "execution_count": 2,
   "metadata": {},
   "outputs": [
    {
     "name": "stderr",
     "output_type": "stream",
     "text": [
      "Using TensorFlow backend.\n"
     ]
    }
   ],
   "source": [
    "from agent.scoring_functions import ScoringFunctions\n",
    "from agent.scoring.template import FVTemplate\n",
    "import pandas as pd"
   ]
  },
  {
   "cell_type": "code",
   "execution_count": null,
   "metadata": {},
   "outputs": [],
   "source": [
    "score_fns = ['FvNetCharge', 'FvCSP', 'HISum']\n",
    "weights = [1,1,1]\n",
    "\n",
    "herceptin = FVTemplate(\n",
    "        'EVQLVESGGGLVQPGGSLRLSCAASGFNIKDTYIHWVRQAPGKGLEWVARIYPTNGYTRYADSVKGRFTISADTSKNTAYLQMNSLRAEDTAVYYCSRWGGDGFYAMDYWGQGTLVTVSS',\n",
    "        'DIQMTQSPSSLSASVGDRVTITCRASQDVNTAVAWYQQKPGKAPKLLIYSASFLYSGVPSRFSGSRSGTDFTLTISSLQPEDFATYYCQQHYTTPPTFGQGTKVEIK',\n",
    "        'SRWGGDGFYAMDY',\n",
    "        'EVQLVESGGGLVQPGGSLRLSCAASGFNIKDTYIHWVRQAPGKGLEWVARIYPTNGYTRYADSVKGRFTISADTSKNTAYLQMNSLRAEDTAVYYC',\n",
    "        'WGQGTLVTVSS',\n",
    "        'QDVNTA', 'QQHYTTPPT', 'SR', 'Y')\n",
    "\n",
    "scoring_function = ScoringFunctions(score_fns, weights=weights,template=herceptin)\n",
    "score_type = 'sum'\n",
    "# 从CSV文件中读取数据\n",
    "df = pd.read_csv('data/OAS/ori_cdr_h3_filter_X.csv')\n",
    "\n",
    "seqs = df['CDR-H3'].tolist()\n",
    "scores_df = scoring_function.scores(seqs, 0, score_type=score_type)\n",
    "scores_df.to_csv('data/OAS/score_file.csv', index=False)"
   ]
  },
  {
   "cell_type": "code",
   "execution_count": null,
   "metadata": {},
   "outputs": [],
   "source": [
    "df = pd.read_csv('data/OAS/score_file.csv')\n",
    "df_cleaned = df.dropna(subset=['raw_FvNetCharge', 'raw_FvCSP', 'raw_HISum'])\n",
    "df_cleaned.to_csv('data/OAS/score_file.csv', index=False)"
   ]
  },
  {
   "cell_type": "code",
   "execution_count": null,
   "metadata": {},
   "outputs": [],
   "source": [
    "df = pd.read_csv('data/OAS/score_file.csv')\n",
    "\n",
    "total_rows = df.shape[0]\n",
    "\n",
    "train_rows = int(0.9 * total_rows)\n",
    "test_rows = total_rows - train_rows\n",
    "\n",
    "train_df = df.sample(n=train_rows, random_state=42)  \n",
    "\n",
    "test_df = df.drop(train_df.index)\n",
    "\n",
    "train_df.to_csv('data/OAS/oas_train.csv', index=False)\n",
    "test_df.to_csv('data/OAS/oas_test.csv', index=False)\n"
   ]
  }
 ],
 "metadata": {
  "kernelspec": {
   "display_name": "ab-env",
   "language": "python",
   "name": "python3"
  },
  "language_info": {
   "codemirror_mode": {
    "name": "ipython",
    "version": 3
   },
   "file_extension": ".py",
   "mimetype": "text/x-python",
   "name": "python",
   "nbconvert_exporter": "python",
   "pygments_lexer": "ipython3",
   "version": "3.8.16"
  }
 },
 "nbformat": 4,
 "nbformat_minor": 2
}
